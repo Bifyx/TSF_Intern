{
 "cells": [
  {
   "cell_type": "markdown",
   "id": "4d2c613f",
   "metadata": {},
   "source": [
    "## K Means Clustering Project Using Python"
   ]
  },
  {
   "cell_type": "markdown",
   "id": "2f0e1bd4",
   "metadata": {},
   "source": [
    "## Some Libraries Used in this Project"
   ]
  },
  {
   "cell_type": "code",
   "execution_count": null,
   "id": "f185ae4a",
   "metadata": {},
   "outputs": [],
   "source": [
    "%matplotlib inline\n",
    "import matplotlib.pyplot as plt\n",
    "import seaborn as sns;sns.set() \n",
    "import numpy as np\n",
    "import pandas as pd"
   ]
  },
  {
   "cell_type": "markdown",
   "id": "a807f8ac",
   "metadata": {},
   "source": [
    "## Importing Iris CSV File"
   ]
  },
  {
   "cell_type": "code",
   "execution_count": null,
   "id": "4b5b92bd",
   "metadata": {},
   "outputs": [],
   "source": [
    "iris = pd.read_csv(r\"C:\\Users\\beebe\\OneDrive\\Documents\\DataScience Practice\\Sparks Foundation\\KMeansClustrering\\Iris.csv\",sep= ',', header=0)\n",
    "iris.head()"
   ]
  },
  {
   "cell_type": "code",
   "execution_count": null,
   "id": "b0fc8cce",
   "metadata": {},
   "outputs": [],
   "source": [
    "iris.shape"
   ]
  },
  {
   "cell_type": "markdown",
   "id": "68a5f6d8",
   "metadata": {},
   "source": [
    "## Extracting Values Needed\n",
    "\n",
    "#### The columns \"Id\" and Species are not needed "
   ]
  },
  {
   "cell_type": "code",
   "execution_count": null,
   "id": "59ea79cb",
   "metadata": {},
   "outputs": [],
   "source": [
    "#x- from sepal length to petal width\n",
    "X= iris.iloc[:, 1:5].values\n",
    "len(X)"
   ]
  },
  {
   "cell_type": "code",
   "execution_count": null,
   "id": "74eeab73",
   "metadata": {},
   "outputs": [],
   "source": [
    "plt.scatter(X[:, 0], X[:, 1], s=50);"
   ]
  },
  {
   "cell_type": "code",
   "execution_count": null,
   "id": "d99f6990",
   "metadata": {},
   "outputs": [],
   "source": [
    "from sklearn.cluster import KMeans\n",
    "kmeans = KMeans(n_clusters=3)\n",
    "kmeans.fit(X)\n",
    "y_kmeans = kmeans.predict(X)"
   ]
  },
  {
   "cell_type": "code",
   "execution_count": null,
   "id": "11b75825",
   "metadata": {},
   "outputs": [],
   "source": [
    "y_kmeans"
   ]
  },
  {
   "cell_type": "markdown",
   "id": "078f557d",
   "metadata": {},
   "source": [
    "## Implementation of K Means Algorithm and Visualising Clusters"
   ]
  },
  {
   "cell_type": "code",
   "execution_count": null,
   "id": "59b9d90b",
   "metadata": {},
   "outputs": [],
   "source": [
    "from sklearn.metrics import pairwise_distances_argmin\n",
    "\n",
    "def find_clusters(X, n_clusters, rseed=0):\n",
    "    # 1. Randomly choose clusters\n",
    "    rng = np.random.RandomState(rseed)\n",
    "    i= rng.permutation(X.shape[0])[:n_clusters]\n",
    "    centers= X[i]\n",
    "    \n",
    "    while True:\n",
    "        # 2a. Assign labels based on closest center\n",
    "        labels = pairwise_distances_argmin(X, centers)\n",
    "        \n",
    "        # 2b. find new centers from means of points\n",
    "        new_centers= np.array([X[labels == i].mean(0)\n",
    "                              for i in range(n_clusters)])\n",
    "        \n",
    "        # 2c. Check for convergence\n",
    "        if np.all(centers == new_centers):\n",
    "            break\n",
    "        centers = new_centers\n",
    "            \n",
    "    return centers, labels\n",
    "\n",
    "centers, labels = find_clusters(X, 3)\n",
    "plt.scatter(X[:, 0], X[:, 1], c=y_kmeans, s=50, cmap='viridis')\n",
    "\n",
    "plt.scatter(centers[:, 0], centers[:, 1], c='Red', s=100, alpha=0.5);"
   ]
  },
  {
   "cell_type": "code",
   "execution_count": null,
   "id": "b7ae8753",
   "metadata": {},
   "outputs": [],
   "source": [
    "# Visualising the clusters - On the first two columns\n",
    "plt.scatter(X[y_kmeans == 0, 0], X[y_kmeans == 0, 1], \n",
    "            s = 100, c = 'red', label = 'Iris-setosa')\n",
    "plt.scatter(X[y_kmeans == 1, 0], X[y_kmeans == 1, 1], \n",
    "            s = 100, c = 'yellow', label = 'Iris-versicolour')\n",
    "plt.scatter(X[y_kmeans == 2, 0], X[y_kmeans == 2, 1],\n",
    "            s = 100, c = 'pink', label = 'Iris-virginica')\n",
    "\n",
    "# Plotting the centroids of the clusters\n",
    "plt.scatter(kmeans.cluster_centers_[:, 0], kmeans.cluster_centers_[:,1], \n",
    "            s = 100, c = 'black', label = 'Centroids', alpha = 0.5)\n",
    "\n",
    "plt.legend()"
   ]
  },
  {
   "cell_type": "code",
   "execution_count": null,
   "id": "e2b85c6e",
   "metadata": {},
   "outputs": [],
   "source": []
  }
 ],
 "metadata": {
  "kernelspec": {
   "display_name": "Python 3 (ipykernel)",
   "language": "python",
   "name": "python3"
  },
  "language_info": {
   "codemirror_mode": {
    "name": "ipython",
    "version": 3
   },
   "file_extension": ".py",
   "mimetype": "text/x-python",
   "name": "python",
   "nbconvert_exporter": "python",
   "pygments_lexer": "ipython3",
   "version": "3.7.1"
  }
 },
 "nbformat": 4,
 "nbformat_minor": 5
}
