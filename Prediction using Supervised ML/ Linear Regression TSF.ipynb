{
 "cells": [
  {
   "cell_type": "markdown",
   "id": "feb964bd",
   "metadata": {},
   "source": [
    "## Linear Regression Project Using Python\n",
    "\n",
    "#### A simple linear regression tasks with only 2 variables."
   ]
  },
  {
   "cell_type": "markdown",
   "id": "c9d77a9b",
   "metadata": {},
   "source": [
    "## Libraries Used in this Project"
   ]
  },
  {
   "cell_type": "code",
   "execution_count": 22,
   "id": "87f23274",
   "metadata": {},
   "outputs": [],
   "source": [
    "import numpy as np\n",
    "import pandas as pd\n",
    "import matplotlib.pyplot as plt\n",
    "import seaborn as sns\n",
    "%matplotlib inline"
   ]
  },
  {
   "cell_type": "markdown",
   "id": "100c67fe",
   "metadata": {},
   "source": [
    "##  Importing Data from URL"
   ]
  },
  {
   "cell_type": "code",
   "execution_count": 6,
   "id": "21bc48f8",
   "metadata": {},
   "outputs": [
    {
     "data": {
      "text/html": [
       "<div>\n",
       "<style scoped>\n",
       "    .dataframe tbody tr th:only-of-type {\n",
       "        vertical-align: middle;\n",
       "    }\n",
       "\n",
       "    .dataframe tbody tr th {\n",
       "        vertical-align: top;\n",
       "    }\n",
       "\n",
       "    .dataframe thead th {\n",
       "        text-align: right;\n",
       "    }\n",
       "</style>\n",
       "<table border=\"1\" class=\"dataframe\">\n",
       "  <thead>\n",
       "    <tr style=\"text-align: right;\">\n",
       "      <th></th>\n",
       "      <th>Hours</th>\n",
       "      <th>Scores</th>\n",
       "    </tr>\n",
       "  </thead>\n",
       "  <tbody>\n",
       "    <tr>\n",
       "      <th>0</th>\n",
       "      <td>2.5</td>\n",
       "      <td>21</td>\n",
       "    </tr>\n",
       "    <tr>\n",
       "      <th>1</th>\n",
       "      <td>5.1</td>\n",
       "      <td>47</td>\n",
       "    </tr>\n",
       "    <tr>\n",
       "      <th>2</th>\n",
       "      <td>3.2</td>\n",
       "      <td>27</td>\n",
       "    </tr>\n",
       "    <tr>\n",
       "      <th>3</th>\n",
       "      <td>8.5</td>\n",
       "      <td>75</td>\n",
       "    </tr>\n",
       "    <tr>\n",
       "      <th>4</th>\n",
       "      <td>3.5</td>\n",
       "      <td>30</td>\n",
       "    </tr>\n",
       "  </tbody>\n",
       "</table>\n",
       "</div>"
      ],
      "text/plain": [
       "   Hours  Scores\n",
       "0    2.5      21\n",
       "1    5.1      47\n",
       "2    3.2      27\n",
       "3    8.5      75\n",
       "4    3.5      30"
      ]
     },
     "execution_count": 6,
     "metadata": {},
     "output_type": "execute_result"
    }
   ],
   "source": [
    "url=\"http://bit.ly/w-data\"\n",
    "study = pd.read_csv(url)\n",
    "study.head()"
   ]
  },
  {
   "cell_type": "markdown",
   "id": "3e68b0b8",
   "metadata": {},
   "source": [
    "## Extracting Dependent and Independent values"
   ]
  },
  {
   "cell_type": "code",
   "execution_count": 10,
   "id": "787f9faa",
   "metadata": {},
   "outputs": [],
   "source": [
    "x=study.iloc[:, :-1].values\n",
    "y=study.iloc[:, 1].values"
   ]
  },
  {
   "cell_type": "markdown",
   "id": "4f6b19d3",
   "metadata": {},
   "source": [
    "## Visualising Data\n",
    "#### When values are the same, the colors are lighter. So darker colors shows less connections between the data. \n",
    "#### Example; Hours on X-axis and Y-axis gives lighter color.\n",
    "#### Note: Sometimes, the color scheme will be opposite in occurence. "
   ]
  },
  {
   "cell_type": "code",
   "execution_count": 33,
   "id": "2aa4684a",
   "metadata": {},
   "outputs": [
    {
     "data": {
      "text/plain": [
       "<AxesSubplot:>"
      ]
     },
     "execution_count": 33,
     "metadata": {},
     "output_type": "execute_result"
    },
    {
     "data": {
      "image/png": "[encoded data removed]",
      "text/plain": [
       "<Figure size 432x288 with 2 Axes>"
      ]
     },
     "metadata": {
      "needs_background": "light"
     },
     "output_type": "display_data"
    }
   ],
   "source": [
    "sns.heatmap(study.corr())"
   ]
  },
  {
   "cell_type": "markdown",
   "id": "322d00b8",
   "metadata": {},
   "source": [
    "## Splitting the Dataset into the Training set and Test set"
   ]
  },
  {
   "cell_type": "code",
   "execution_count": 34,
   "id": "ed89d47a",
   "metadata": {},
   "outputs": [],
   "source": [
    "#test size = 20% and train set = 80%\n",
    "from sklearn.model_selection import train_test_split\n",
    "X_train,X_test, y_train, y_test = train_test_split(x, y,test_size = 0.2,random_state= 0)"
   ]
  },
  {
   "cell_type": "code",
   "execution_count": 36,
   "id": "255bc720",
   "metadata": {},
   "outputs": [
    {
     "data": {
      "text/plain": [
       "array([20, 27, 69, 30, 62], dtype=int64)"
      ]
     },
     "execution_count": 36,
     "metadata": {},
     "output_type": "execute_result"
    }
   ],
   "source": [
    "#y_test"
   ]
  },
  {
   "cell_type": "markdown",
   "id": "deeb1be4",
   "metadata": {},
   "source": [
    "## Modelling"
   ]
  },
  {
   "cell_type": "code",
   "execution_count": 15,
   "id": "93292a07",
   "metadata": {},
   "outputs": [
    {
     "data": {
      "text/plain": [
       "LinearRegression()"
      ]
     },
     "execution_count": 15,
     "metadata": {},
     "output_type": "execute_result"
    }
   ],
   "source": [
    "#creating linear regression model\n",
    "from sklearn.linear_model import LinearRegression\n",
    "regressor = LinearRegression()\n",
    "regressor.fit(X_train,y_train)"
   ]
  },
  {
   "cell_type": "markdown",
   "id": "e873cdfc",
   "metadata": {},
   "source": [
    "## Getting the Prediction"
   ]
  },
  {
   "cell_type": "code",
   "execution_count": 38,
   "id": "51974f82",
   "metadata": {},
   "outputs": [
    {
     "data": {
      "text/plain": [
       "array([16.88414476, 33.73226078, 75.357018  , 26.79480124, 60.49103328])"
      ]
     },
     "execution_count": 38,
     "metadata": {},
     "output_type": "execute_result"
    }
   ],
   "source": [
    "y_pred = regressor.predict(X_test)\n",
    "y_pred"
   ]
  },
  {
   "cell_type": "markdown",
   "id": "9948b3e1",
   "metadata": {},
   "source": [
    "## Checking Behind the Scene"
   ]
  },
  {
   "cell_type": "code",
   "execution_count": 19,
   "id": "8dd342e6",
   "metadata": {},
   "outputs": [
    {
     "name": "stdout",
     "output_type": "stream",
     "text": [
      "[9.91065648]\n"
     ]
    }
   ],
   "source": [
    "#coefficeient calc\n",
    "#what goes on behind the scene\n",
    "print(regressor.coef_)"
   ]
  },
  {
   "cell_type": "code",
   "execution_count": 18,
   "id": "57213bc2",
   "metadata": {},
   "outputs": [
    {
     "name": "stdout",
     "output_type": "stream",
     "text": [
      "2.018160041434683\n"
     ]
    }
   ],
   "source": [
    "#calculating the intercept\n",
    "print(regressor.intercept_)"
   ]
  },
  {
   "cell_type": "markdown",
   "id": "94f04bfd",
   "metadata": {},
   "source": [
    "## Plotting the Regression Line(Visualisation)"
   ]
  },
  {
   "cell_type": "code",
   "execution_count": 24,
   "id": "23b6f2f2",
   "metadata": {},
   "outputs": [
    {
     "data": {
      "image/png": "[encoded data removed]",
      "text/plain": [
       "<Figure size 432x288 with 1 Axes>"
      ]
     },
     "metadata": {
      "needs_background": "light"
     },
     "output_type": "display_data"
    }
   ],
   "source": [
    "line = regressor.coef_*x+regressor.intercept_\n",
    "\n",
    "# Plotting for the test data\n",
    "plt.scatter(x, y)\n",
    "plt.plot(x, line);\n",
    "plt.show()"
   ]
  },
  {
   "cell_type": "markdown",
   "id": "0bb9ae89",
   "metadata": {},
   "source": [
    "## Actual Value and Predicted Value"
   ]
  },
  {
   "cell_type": "code",
   "execution_count": 28,
   "id": "82aba26b",
   "metadata": {},
   "outputs": [
    {
     "data": {
      "text/html": [
       "<div>\n",
       "<style scoped>\n",
       "    .dataframe tbody tr th:only-of-type {\n",
       "        vertical-align: middle;\n",
       "    }\n",
       "\n",
       "    .dataframe tbody tr th {\n",
       "        vertical-align: top;\n",
       "    }\n",
       "\n",
       "    .dataframe thead th {\n",
       "        text-align: right;\n",
       "    }\n",
       "</style>\n",
       "<table border=\"1\" class=\"dataframe\">\n",
       "  <thead>\n",
       "    <tr style=\"text-align: right;\">\n",
       "      <th></th>\n",
       "      <th>Actual</th>\n",
       "      <th>Predicted</th>\n",
       "    </tr>\n",
       "  </thead>\n",
       "  <tbody>\n",
       "    <tr>\n",
       "      <th>0</th>\n",
       "      <td>20</td>\n",
       "      <td>16.884145</td>\n",
       "    </tr>\n",
       "    <tr>\n",
       "      <th>1</th>\n",
       "      <td>27</td>\n",
       "      <td>33.732261</td>\n",
       "    </tr>\n",
       "    <tr>\n",
       "      <th>2</th>\n",
       "      <td>69</td>\n",
       "      <td>75.357018</td>\n",
       "    </tr>\n",
       "    <tr>\n",
       "      <th>3</th>\n",
       "      <td>30</td>\n",
       "      <td>26.794801</td>\n",
       "    </tr>\n",
       "    <tr>\n",
       "      <th>4</th>\n",
       "      <td>62</td>\n",
       "      <td>60.491033</td>\n",
       "    </tr>\n",
       "  </tbody>\n",
       "</table>\n",
       "</div>"
      ],
      "text/plain": [
       "   Actual  Predicted\n",
       "0      20  16.884145\n",
       "1      27  33.732261\n",
       "2      69  75.357018\n",
       "3      30  26.794801\n",
       "4      62  60.491033"
      ]
     },
     "execution_count": 28,
     "metadata": {},
     "output_type": "execute_result"
    }
   ],
   "source": [
    "act = pd.DataFrame({'Actual': y_test, 'Predicted': y_pred})  \n",
    "act"
   ]
  },
  {
   "cell_type": "markdown",
   "id": "73799b67",
   "metadata": {},
   "source": [
    "## Evaluating the Model"
   ]
  },
  {
   "cell_type": "code",
   "execution_count": 42,
   "id": "7e5e750b",
   "metadata": {},
   "outputs": [
    {
     "name": "stdout",
     "output_type": "stream",
     "text": [
      "R2 Score: 0.9454906892105356\n",
      "Mean Square Error: 4.183859899002975\n"
     ]
    }
   ],
   "source": [
    "# R squared value is 0.945 which is 94.5% it shows that the model is not perfect and the values do not match\n",
    "# MSE is 4.18 shows that the model is not perfect.\n",
    "# Perfect R squared value and MSE is 1 and 0 respectively\n",
    "\n",
    "from sklearn import metrics\n",
    "r2_score=r2_score(y_test, y_pred)\n",
    "mse=metrics.mean_absolute_error(y_test, y_pred)\n",
    "\n",
    "print('R2 Score:', r2_score) \n",
    "print('Mean Square Error:', mse) "
   ]
  },
  {
   "cell_type": "markdown",
   "id": "f0bee8cc",
   "metadata": {},
   "source": [
    "### The predicted score if a student studies 9.25 hours per day"
   ]
  },
  {
   "cell_type": "code",
   "execution_count": 31,
   "id": "57b832a7",
   "metadata": {},
   "outputs": [
    {
     "name": "stdout",
     "output_type": "stream",
     "text": [
      "No of Hours = 9.25\n",
      "Predicted Score = 93.69173248737538\n"
     ]
    }
   ],
   "source": [
    "#You can also test with your own data\n",
    "hours = 9.25\n",
    "own_pred = regressor.predict(np.array([9.25]).reshape(-1, 1))\n",
    "print(\"No of Hours = {}\".format(hours))\n",
    "print(\"Predicted Score = {}\".format(own_pred[0]))"
   ]
  },
  {
   "cell_type": "code",
   "execution_count": null,
   "id": "e5c9c885",
   "metadata": {},
   "outputs": [],
   "source": []
  }
 ],
 "metadata": {
  "kernelspec": {
   "display_name": "Python 3 (ipykernel)",
   "language": "python",
   "name": "python3"
  },
  "language_info": {
   "codemirror_mode": {
    "name": "ipython",
    "version": 3
   },
   "file_extension": ".py",
   "mimetype": "text/x-python",
   "name": "python",
   "nbconvert_exporter": "python",
   "pygments_lexer": "ipython3",
   "version": "3.7.1"
  }
 },
 "nbformat": 4,
 "nbformat_minor": 5
}
